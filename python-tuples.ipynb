{
 "cells": [
  {
   "cell_type": "code",
   "execution_count": 2,
   "metadata": {},
   "outputs": [
    {
     "name": "stdout",
     "output_type": "stream",
     "text": [
      "('tuples', 'are', 'immutable')\n",
      "<class 'tuple'>\n"
     ]
    }
   ],
   "source": [
    "## working with Tuples\n",
    "# Tuples are immutable, meaning they cannot be changed\n",
    "# Tuples are defined using parentheses\n",
    "# Tuples are faster than lists\n",
    "# Tuples are used to protect data from being changed\n",
    "# Tuples are used for data that doesn't change, such as days of the week, or dates on a calendar\n",
    "\n",
    "# create a tuple\n",
    "t = (\"tuples\", \"are\", \"immutable\")\n",
    "print(t)\n",
    "print(type(t))  \n"
   ]
  },
  {
   "cell_type": "code",
   "execution_count": 3,
   "metadata": {},
   "outputs": [
    {
     "name": "stdout",
     "output_type": "stream",
     "text": [
      "['lists', 'are', 'mutable']\n",
      "<class 'list'>\n",
      "('lists', 'are', 'mutable')\n",
      "<class 'tuple'>\n"
     ]
    }
   ],
   "source": [
    "## Converting a list to a tuple\n",
    "# create a list\n",
    "list = [\"lists\", \"are\", \"mutable\"]\n",
    "print(list)\n",
    "print(type(list))\n",
    "\n",
    "tuple = tuple(list)\n",
    "print(tuple)\n",
    "print(type(tuple))\n"
   ]
  },
  {
   "cell_type": "code",
   "execution_count": 7,
   "metadata": {},
   "outputs": [
    {
     "name": "stdout",
     "output_type": "stream",
     "text": [
      "tuples\n",
      "are\n",
      "immutable\n",
      "immutable\n",
      "('tuples', 'are')\n"
     ]
    }
   ],
   "source": [
    "## accessing elements in a tuple\n",
    "# create a tuple\n",
    "t = (\"tuples\", \"are\", \"immutable\")\n",
    "print(t[0])\n",
    "print(t[1])\n",
    "print(t[2])\n",
    "print(t[-1])\n",
    "print(t[0:2])\n"
   ]
  },
  {
   "cell_type": "code",
   "execution_count": 10,
   "metadata": {},
   "outputs": [
    {
     "ename": "AttributeError",
     "evalue": "'tuple' object has no attribute 'append'",
     "output_type": "error",
     "traceback": [
      "\u001b[1;31m---------------------------------------------------------------------------\u001b[0m",
      "\u001b[1;31mAttributeError\u001b[0m                            Traceback (most recent call last)",
      "Cell \u001b[1;32mIn[10], line 9\u001b[0m\n\u001b[0;32m      3\u001b[0m t \u001b[38;5;241m=\u001b[39m (\u001b[38;5;124m\"\u001b[39m\u001b[38;5;124mtuples\u001b[39m\u001b[38;5;124m\"\u001b[39m, \u001b[38;5;124m\"\u001b[39m\u001b[38;5;124mare\u001b[39m\u001b[38;5;124m\"\u001b[39m, \u001b[38;5;124m\"\u001b[39m\u001b[38;5;124mimmutable\u001b[39m\u001b[38;5;124m\"\u001b[39m)\n\u001b[0;32m      5\u001b[0m \u001b[38;5;66;03m# try to change the first element\u001b[39;00m\n\u001b[0;32m      6\u001b[0m \u001b[38;5;66;03m# t[0] = \"lists\"\u001b[39;00m\n\u001b[0;32m      7\u001b[0m \n\u001b[0;32m      8\u001b[0m \u001b[38;5;66;03m# try to add to the tuple\u001b[39;00m\n\u001b[1;32m----> 9\u001b[0m \u001b[43mt\u001b[49m\u001b[38;5;241;43m.\u001b[39;49m\u001b[43mappend\u001b[49m(\u001b[38;5;124m\"\u001b[39m\u001b[38;5;124mmutable\u001b[39m\u001b[38;5;124m\"\u001b[39m)\n",
      "\u001b[1;31mAttributeError\u001b[0m: 'tuple' object has no attribute 'append'"
     ]
    }
   ],
   "source": [
    "## attempting to change a tuple\n",
    "# create a tuple\n",
    "t = (\"tuples\", \"are\", \"immutable\")\n",
    "\n",
    "# try to change the first element\n",
    "# t[0] = \"lists\"\n",
    "\n",
    "# try to add to the tuple\n",
    "t.append(\"mutable\")\n",
    "\n"
   ]
  },
  {
   "cell_type": "code",
   "execution_count": 11,
   "metadata": {},
   "outputs": [
    {
     "name": "stdout",
     "output_type": "stream",
     "text": [
      "tuples\n",
      "are\n",
      "immutable\n"
     ]
    }
   ],
   "source": [
    "## unpacking a tuple    \n",
    "# create a tuple\n",
    "t = (\"tuples\", \"are\", \"immutable\")\n",
    "\n",
    "# unpack the tuple\n",
    "a, b, c = t\n",
    "\n",
    "print(a)\n",
    "print(b)\n",
    "print(c)\n"
   ]
  },
  {
   "cell_type": "code",
   "execution_count": 13,
   "metadata": {},
   "outputs": [
    {
     "name": "stdout",
     "output_type": "stream",
     "text": [
      "tuples\n",
      "['are', 'immutable', 'test']\n",
      "more\n"
     ]
    }
   ],
   "source": [
    "## Unpacking a tuple with *\n",
    "# create a tuple\n",
    "t = (\"tuples\", \"are\", \"immutable\", \"test\", \"more\")\n",
    "\n",
    "# unpack the tuple\n",
    "a, *b, c = t\n",
    "\n",
    "print(a)\n",
    "print(b)\n",
    "print(c)\n"
   ]
  },
  {
   "cell_type": "code",
   "execution_count": null,
   "metadata": {},
   "outputs": [],
   "source": [
    " "
   ]
  }
 ],
 "metadata": {
  "kernelspec": {
   "display_name": "venv",
   "language": "python",
   "name": "python3"
  },
  "language_info": {
   "codemirror_mode": {
    "name": "ipython",
    "version": 3
   },
   "file_extension": ".py",
   "mimetype": "text/x-python",
   "name": "python",
   "nbconvert_exporter": "python",
   "pygments_lexer": "ipython3",
   "version": "3.12.0"
  }
 },
 "nbformat": 4,
 "nbformat_minor": 2
}
