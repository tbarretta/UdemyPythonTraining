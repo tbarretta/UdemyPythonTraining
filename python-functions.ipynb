{
 "cells": [
  {
   "cell_type": "code",
   "execution_count": 1,
   "metadata": {},
   "outputs": [
    {
     "name": "stdout",
     "output_type": "stream",
     "text": [
      "even\n"
     ]
    }
   ],
   "source": [
    "num=24\n",
    "if num%2==0:\n",
    "    print(\"even\")   \n",
    "else:\n",
    "    print(\"odd\")\n",
    "    "
   ]
  },
  {
   "cell_type": "code",
   "execution_count": 2,
   "metadata": {},
   "outputs": [
    {
     "name": "stdout",
     "output_type": "stream",
     "text": [
      "even\n",
      "odd\n"
     ]
    }
   ],
   "source": [
    "def even_odd(num):\n",
    "    if num%2==0:\n",
    "        print(\"even\")   \n",
    "    else:\n",
    "        print(\"odd\")\n",
    "\n",
    "even_odd(24)\n",
    "even_odd(25)"
   ]
  },
  {
   "cell_type": "code",
   "execution_count": 3,
   "metadata": {},
   "outputs": [
    {
     "name": "stdout",
     "output_type": "stream",
     "text": [
      "even\n",
      "odd\n"
     ]
    }
   ],
   "source": [
    "even_odd(26)\n",
    "even_odd(27)"
   ]
  },
  {
   "cell_type": "code",
   "execution_count": 4,
   "metadata": {},
   "outputs": [],
   "source": [
    "## function with multiple parameters\n",
    "\n",
    "def add(a,b):\n",
    "    return a+b  # return is used to return the value to the caller\n"
   ]
  },
  {
   "cell_type": "code",
   "execution_count": 5,
   "metadata": {},
   "outputs": [
    {
     "name": "stdout",
     "output_type": "stream",
     "text": [
      "5\n"
     ]
    }
   ],
   "source": [
    "print(add(2,3))\n"
   ]
  },
  {
   "cell_type": "code",
   "execution_count": null,
   "metadata": {},
   "outputs": [
    {
     "name": "stdout",
     "output_type": "stream",
     "text": [
      "Hello Ravi\n",
      "Hello Guest\n"
     ]
    }
   ],
   "source": [
    "## Default parameters\n",
    "\n",
    "def greet(name=\"Guest\"):\n",
    "    print(\"Hello\",name)\n",
    "\n",
    "greet(\"Tom\")\n",
    "greet()"
   ]
  },
  {
   "cell_type": "code",
   "execution_count": 11,
   "metadata": {},
   "outputs": [
    {
     "name": "stdout",
     "output_type": "stream",
     "text": [
      "5\n",
      "5\n",
      "1\n",
      "2\n",
      "3\n",
      "4\n",
      "5\n",
      "6\n",
      "7\n",
      "8\n",
      "9\n",
      "10\n"
     ]
    }
   ],
   "source": [
    "## Variable length arguments\n",
    "## Positional arguments and keyword arguments\n",
    "\n",
    "def add(a,b):\n",
    "    return a+b\n",
    "\n",
    "print(add(2,3))\n",
    "print(add(b=2,a=3)) # keyword arguments\n",
    "\n",
    "def print_numbers(*args):\n",
    "    for i in args:\n",
    "        print(i)    \n",
    "\n",
    "print_numbers(1,2,3,4,5,6,7,8,9,10)"
   ]
  },
  {
   "cell_type": "code",
   "execution_count": 12,
   "metadata": {},
   "outputs": [
    {
     "name": "stdout",
     "output_type": "stream",
     "text": [
      "212.0\n",
      "37.77777777777778\n"
     ]
    }
   ],
   "source": [
    "def convert_temp(temp,unit=\"c\"):\n",
    "    if unit==\"f\":\n",
    "        return (temp*9/5)+32\n",
    "    else:\n",
    "        return (temp-32)*5/9\n",
    "    \n",
    "print(convert_temp(100,\"f\"))\n",
    "print(convert_temp(100))"
   ]
  },
  {
   "cell_type": "code",
   "execution_count": null,
   "metadata": {},
   "outputs": [
    {
     "name": "stdout",
     "output_type": "stream",
     "text": [
      "True\n"
     ]
    }
   ],
   "source": [
    "def is_password_strong(password):\n",
    "    if len(password)>=8:\n",
    "        if any(i.isdigit() for i in password):\n",
    "            if any(i.isupper() for i in password):\n",
    "                if any(i.islower() for i in password):\n",
    "                    if any(i in \"!@#$%^&*()\" for i in password):\n",
    "                        return True\n",
    "        return True\n",
    "    else:\n",
    "        return False\n",
    "    \n",
    "print(is_password_strong(\"Tom@1234\"))"
   ]
  }
 ],
 "metadata": {
  "kernelspec": {
   "display_name": "Python 3",
   "language": "python",
   "name": "python3"
  },
  "language_info": {
   "codemirror_mode": {
    "name": "ipython",
    "version": 3
   },
   "file_extension": ".py",
   "mimetype": "text/x-python",
   "name": "python",
   "nbconvert_exporter": "python",
   "pygments_lexer": "ipython3",
   "version": "3.12.0"
  }
 },
 "nbformat": 4,
 "nbformat_minor": 2
}
