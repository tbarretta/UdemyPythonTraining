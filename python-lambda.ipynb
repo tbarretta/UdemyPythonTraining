{
 "cells": [
  {
   "cell_type": "code",
   "execution_count": 2,
   "metadata": {},
   "outputs": [
    {
     "name": "stdout",
     "output_type": "stream",
     "text": [
      "23\n"
     ]
    }
   ],
   "source": [
    "## Lamda function is a small anonymous function\n",
    "## A lambda function can take any number of arguments, but can only have one expression.\n",
    "## Syntax: lambda arguments : expression\n",
    "## The expression is executed and the result is returned\n",
    "\n",
    "x = lambda a,b : a + b + 10\n",
    "print(x(5,8))\n",
    "\n"
   ]
  },
  {
   "cell_type": "code",
   "execution_count": 4,
   "metadata": {},
   "outputs": [
    {
     "name": "stdout",
     "output_type": "stream",
     "text": [
      "22\n"
     ]
    }
   ],
   "source": [
    "## lambda function can be used inside another function\n",
    "def myfunc(n):\n",
    "    return lambda a : a * n \n",
    "\n",
    "mydoubler = myfunc(2)\n",
    "print(mydoubler(11))\n"
   ]
  }
 ],
 "metadata": {
  "kernelspec": {
   "display_name": "Python 3",
   "language": "python",
   "name": "python3"
  },
  "language_info": {
   "codemirror_mode": {
    "name": "ipython",
    "version": 3
   },
   "file_extension": ".py",
   "mimetype": "text/x-python",
   "name": "python",
   "nbconvert_exporter": "python",
   "pygments_lexer": "ipython3",
   "version": "3.12.0"
  }
 },
 "nbformat": 4,
 "nbformat_minor": 2
}
