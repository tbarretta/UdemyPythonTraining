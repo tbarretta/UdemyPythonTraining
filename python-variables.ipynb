{
 "cells": [
  {
   "cell_type": "code",
   "execution_count": 2,
   "metadata": {},
   "outputs": [
    {
     "name": "stdout",
     "output_type": "stream",
     "text": [
      "age:  32\n",
      "height:  6.1\n",
      "name:  Tom\n",
      "is_student:  True\n"
     ]
    }
   ],
   "source": [
    "## Declaring Variables\n",
    "age=32\n",
    "height=6.1\n",
    "name=\"Tom\"\n",
    "is_student=True\n",
    "\n",
    "print(\"age: \", age)\n",
    "print(\"height: \", height)\n",
    "print(\"name: \", name)\n",
    "print(\"is_student: \", is_student)\n"
   ]
  },
  {
   "cell_type": "code",
   "execution_count": 8,
   "metadata": {},
   "outputs": [
    {
     "name": "stdout",
     "output_type": "stream",
     "text": [
      "age:  25 <class 'int'>\n",
      "age:  25 <class 'str'>\n",
      "age:  25 <class 'str'>\n"
     ]
    }
   ],
   "source": [
    "age=25\n",
    "print(\"age: \",age, type(age))\n",
    "\n",
    "age=\"25\"\n",
    "print(\"age: \",age, type(age))\n",
    "\n",
    "int(age)\n",
    "print(\"age: \",age, type(age))\n"
   ]
  },
  {
   "cell_type": "code",
   "execution_count": 10,
   "metadata": {},
   "outputs": [
    {
     "name": "stdout",
     "output_type": "stream",
     "text": [
      "age:  25 <class 'int'>\n"
     ]
    }
   ],
   "source": [
    "## input example\n",
    "\n",
    "age=int(input(\"Enter your age: \"))  \n",
    "print (\"age: \", age, type(age))"
   ]
  },
  {
   "cell_type": "code",
   "execution_count": 11,
   "metadata": {},
   "outputs": [
    {
     "name": "stdout",
     "output_type": "stream",
     "text": [
      "Sum:  335.0\n",
      "Difference:  -89.0\n",
      "Product:  26076.0\n",
      "Quotient:  0.5801886792452831\n"
     ]
    }
   ],
   "source": [
    "## Simple Calculator    \n",
    "num1=float(input(\"Enter first number: \"))\n",
    "num2=float(input(\"Enter second number: \"))\n",
    "\n",
    "sum = num1 + num2\n",
    "difference = num1 - num2\n",
    "product = num1 * num2\n",
    "quotient = num1 / num2\n",
    "\n",
    "print(\"Sum: \", sum)\n",
    "print(\"Difference: \", difference)\n",
    "print(\"Product: \", product)\n",
    "print(\"Quotient: \", quotient)\n"
   ]
  },
  {
   "cell_type": "code",
   "execution_count": null,
   "metadata": {},
   "outputs": [],
   "source": []
  }
 ],
 "metadata": {
  "kernelspec": {
   "display_name": "venv",
   "language": "python",
   "name": "python3"
  },
  "language_info": {
   "codemirror_mode": {
    "name": "ipython",
    "version": 3
   },
   "file_extension": ".py",
   "mimetype": "text/x-python",
   "name": "python",
   "nbconvert_exporter": "python",
   "pygments_lexer": "ipython3",
   "version": "3.12.0"
  }
 },
 "nbformat": 4,
 "nbformat_minor": 2
}
