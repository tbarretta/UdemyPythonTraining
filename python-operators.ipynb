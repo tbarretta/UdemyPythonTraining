{
 "cells": [
  {
   "cell_type": "code",
   "execution_count": 6,
   "metadata": {},
   "outputs": [
    {
     "name": "stdout",
     "output_type": "stream",
     "text": [
      "Addition of a and b is 29\n",
      "Subtraction of a and b is 19\n",
      "Multiplication of a and b is 120\n",
      "Division of a and b is 4.8\n",
      "Floor Division of a and b is 4\n",
      "Modulus of a and b is 4\n",
      "Exponent of a and b is 7962624\n"
     ]
    }
   ],
   "source": [
    "## Arithmetic Operation\n",
    "\n",
    "a=24\n",
    "b=5\n",
    "add_result = a+b\n",
    "sub_result = a-b\n",
    "mul_result = a*b\n",
    "div_result = a/b\n",
    "floor_div_result = a//b\n",
    "modulus_result = a%b\n",
    "exponent_result = a**b\n",
    "\n",
    "print(\"Addition of a and b is\",add_result)\n",
    "print(\"Subtraction of a and b is\",sub_result)\n",
    "print(\"Multiplication of a and b is\",mul_result)\n",
    "print(\"Division of a and b is\",div_result)\n",
    "print(\"Floor Division of a and b is\",floor_div_result)\n",
    "print(\"Modulus of a and b is\",modulus_result)\n",
    "print(\"Exponent of a and b is\",exponent_result)\n",
    "\n"
   ]
  },
  {
   "cell_type": "code",
   "execution_count": 11,
   "metadata": {},
   "outputs": [
    {
     "name": "stdout",
     "output_type": "stream",
     "text": [
      "False\n",
      "Concatenation of str1 and str2 is HelloWorld\n"
     ]
    }
   ],
   "source": [
    "str1 = \"Hello\"\n",
    "str2 = \"World\"\n",
    "\n",
    "str_result = str1 + str2\n",
    "print(str1==str2)\n",
    "print(\"Concatenation of str1 and str2 is\",str_result)\n"
   ]
  },
  {
   "cell_type": "code",
   "execution_count": 13,
   "metadata": {},
   "outputs": [
    {
     "name": "stdout",
     "output_type": "stream",
     "text": [
      "False\n",
      "True\n",
      "False\n"
     ]
    }
   ],
   "source": [
    "## Logical Operation\n",
    "\n",
    "a = True\n",
    "b = False\n",
    "\n",
    "result_and = a and b\n",
    "print(result_and)\n",
    "\n",
    "result_or = a or b\n",
    "print(result_or)\n",
    "\n",
    "result_not = not a \n",
    "print(result_not)"
   ]
  },
  {
   "cell_type": "code",
   "execution_count": null,
   "metadata": {},
   "outputs": [],
   "source": []
  }
 ],
 "metadata": {
  "kernelspec": {
   "display_name": "venv",
   "language": "python",
   "name": "python3"
  },
  "language_info": {
   "codemirror_mode": {
    "name": "ipython",
    "version": 3
   },
   "file_extension": ".py",
   "mimetype": "text/x-python",
   "name": "python",
   "nbconvert_exporter": "python",
   "pygments_lexer": "ipython3",
   "version": "3.12.0"
  }
 },
 "nbformat": 4,
 "nbformat_minor": 2
}
