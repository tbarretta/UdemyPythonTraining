{
 "cells": [
  {
   "cell_type": "code",
   "execution_count": 3,
   "metadata": {},
   "outputs": [
    {
     "name": "stdout",
     "output_type": "stream",
     "text": [
      "This is a test file.\n",
      "This is the second line of the file.\n",
      "This is the last line of the file.\n",
      "Line 1: This is a test file.\n",
      "Line 2: This is the second line of the file.\n",
      "Line 3: This is the last line of the file."
     ]
    }
   ],
   "source": [
    "## Read a whole file\n",
    "with open('file.txt', 'r') as f:\n",
    "    print(f.read())\n",
    "\n",
    "## Read a file line by line\n",
    "i=1\n",
    "with open('file.txt', 'r') as fl:\n",
    "    for line in fl:\n",
    "        print(f'Line {i}: {line}', end='')\n",
    "        i+=1"
   ]
  }
 ],
 "metadata": {
  "kernelspec": {
   "display_name": "Python 3",
   "language": "python",
   "name": "python3"
  },
  "language_info": {
   "codemirror_mode": {
    "name": "ipython",
    "version": 3
   },
   "file_extension": ".py",
   "mimetype": "text/x-python",
   "name": "python",
   "nbconvert_exporter": "python",
   "pygments_lexer": "ipython3",
   "version": "3.12.0"
  }
 },
 "nbformat": 4,
 "nbformat_minor": 2
}
